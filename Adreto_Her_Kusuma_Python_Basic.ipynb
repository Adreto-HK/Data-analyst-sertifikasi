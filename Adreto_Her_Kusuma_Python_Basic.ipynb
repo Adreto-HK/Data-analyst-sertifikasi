{
 "cells": [
  {
   "cell_type": "code",
   "execution_count": 19,
   "metadata": {},
   "outputs": [],
   "source": [
    "siswa_data={}"
   ]
  },
  {
   "cell_type": "code",
   "execution_count": 25,
   "metadata": {},
   "outputs": [],
   "source": [
    "def add_or_update_siswa(siswa_id, tanggal_lahir, nama_lengkap, no_telpon, jenis_kelamin, hobi):\n",
    "    if siswa_id not in siswa_data: \n",
    "        siswa_data[siswa_id] = {\n",
    "        \"tanggal_lahir\": tanggal_lahir,\n",
    "        \"nama_lengkap\": nama_lengkap,\n",
    "        \"no_telpon\": no_telpon,\n",
    "        \"jenis_kelamin\": jenis_kelamin,\n",
    "        \"hobi\": hobi\n",
    "    }\n",
    "    else:\n",
    "        siswa_data[siswa_id][\"tanggal_lahir\"] = tanggal_lahir\n",
    "        siswa_data[siswa_id][\"nama_lengkap\"] = nama_lengkap\n",
    "        siswa_data[siswa_id][\"no_telpon\"] = no_telpon\n",
    "        siswa_data[siswa_id][\"jenis_kelamin\"] = jenis_kelamin\n",
    "        siswa_data[siswa_id][\"hobi\"] = hobi\n"
   ]
  },
  {
   "cell_type": "code",
   "execution_count": 26,
   "metadata": {},
   "outputs": [],
   "source": [
    "def add_or_update_peringkat(siswa_id, peringkat) :\n",
    "    if siswa_id in siswa_data :\n",
    "        siswa_data[siswa_id][\"peringkat\"] = peringkat\n",
    "    else:\n",
    "        print(\"Siswa dengan ID\"), siswa_id, \"Tidak di temukan\" "
   ]
  },
  {
   "cell_type": "code",
   "execution_count": 27,
   "metadata": {},
   "outputs": [],
   "source": [
    "add_or_update_siswa(\"1\", \"2001-05-28\", \"Moses\", \"+6289522106824\", \"Male\", [\"Game\", \"Music\", \"Streaming\"])\n",
    "add_or_update_siswa(\"2\", \"2002-06-06\", \"Gendon\", \"+6289586898226\", \"Male\", [\"Game\", \"Surfing\", \"Drawing\"])\n",
    "add_or_update_siswa(\"3\", \"2003-07-21\", \"Butet\", \"+6289522112938\", \"Male\", [\"Singing\", \"Play Gitar\", \"Dance\"])\n",
    "add_or_update_siswa(\"4\", \"2004-08-31\", \"Gerard\", \"+6289506121134\", \"Male\", [\"Golf\", \"Traveling\", \"Dream\"])\n",
    "add_or_update_siswa(\"5\", \"2005-09-30\", \"Lista\", \"+62895221023432\", \"Female\", [\"Traveling\", \"Music\", \"Sleep\"])\n",
    "add_or_update_siswa(\"6\", \"2006-11-20\", \"Nimi\", \"+62895221127367\", \"Female\", [\"Cooking\", \"Reading\", \"Swimming\"])\n",
    "add_or_update_peringkat(\"1\", \"A\")\n",
    "add_or_update_peringkat(\"2\", \"B\")\n",
    "add_or_update_peringkat(\"3\", \"B+\")\n",
    "add_or_update_peringkat(\"4\", \"B-\")\n",
    "add_or_update_peringkat(\"5\", \"C+\")\n",
    "add_or_update_peringkat(\"6\", \"C\")"
   ]
  },
  {
   "cell_type": "code",
   "execution_count": 28,
   "metadata": {},
   "outputs": [],
   "source": [
    "def remove_hobi(siswa_id, hobi_to_remove):\n",
    "    if siswa_id in siswa_data:\n",
    "        if \"hobi\" in siswa_data[siswa_id]:\n",
    "            siswa_data[siswa_id][\"hobi\"].remove(hobi_to_remove)\n",
    "        else:\n",
    "            print(\"Hobi tidak ditemukan\", siswa_id)\n",
    "    else:\n",
    "        print(\"Siswa dengan ID\", siswa_id, \"Tidak Di Temukan\")"
   ]
  },
  {
   "cell_type": "code",
   "execution_count": 29,
   "metadata": {},
   "outputs": [],
   "source": [
    "add_or_update_siswa(\"5\", \"2005-09-30\", \"Lista\", \"+6667676765\", \"Female\", [\"Traveling\", \"Music\", \"Reading\"])\n",
    "remove_hobi (\"3\", \"Singing\")"
   ]
  },
  {
   "cell_type": "code",
   "execution_count": 30,
   "metadata": {},
   "outputs": [
    {
     "name": "stdout",
     "output_type": "stream",
     "text": [
      "{'1': {'tanggal_lahir': '2001-05-28', 'nama_lengkap': 'Moses', 'no_telpon': '+6289522106824', 'jenis_kelamin': 'Male', 'hobi': ['Game', 'Music', 'Streaming'], 'peringkat': 'A'}, '2': {'tanggal_lahir': '2002-06-06', 'nama_lengkap': 'Gendon', 'no_telpon': '+6289586898226', 'jenis_kelamin': 'Male', 'hobi': ['Game', 'Surfing', 'Drawing'], 'peringkat': 'B'}, '3': {'tanggal_lahir': '2003-07-21', 'nama_lengkap': 'Butet', 'no_telpon': '+6289522112938', 'jenis_kelamin': 'Male', 'hobi': ['Play Gitar', 'Dance'], 'peringkat': 'B+'}, '4': {'tanggal_lahir': '2004-08-31', 'nama_lengkap': 'Gerard', 'no_telpon': '+6289506121134', 'jenis_kelamin': 'Male', 'hobi': ['Golf', 'Traveling', 'Dream'], 'peringkat': 'B-'}, '5': {'tanggal_lahir': '2005-09-30', 'nama_lengkap': 'Lista', 'no_telpon': '+6667676765', 'jenis_kelamin': 'Female', 'hobi': ['Traveling', 'Music', 'Reading'], 'peringkat': 'C+'}, '6': {'tanggal_lahir': '2006-11-20', 'nama_lengkap': 'Nimi', 'no_telpon': '+62895221127367', 'jenis_kelamin': 'Female', 'hobi': ['Cooking', 'Reading', 'Swimming'], 'peringkat': 'C'}}\n"
     ]
    }
   ],
   "source": [
    "print(siswa_data)"
   ]
  },
  {
   "cell_type": "code",
   "execution_count": null,
   "metadata": {},
   "outputs": [],
   "source": []
  }
 ],
 "metadata": {
  "kernelspec": {
   "display_name": "Python 3",
   "language": "python",
   "name": "python3"
  },
  "language_info": {
   "codemirror_mode": {
    "name": "ipython",
    "version": 3
   },
   "file_extension": ".py",
   "mimetype": "text/x-python",
   "name": "python",
   "nbconvert_exporter": "python",
   "pygments_lexer": "ipython3",
   "version": "3.12.0"
  }
 },
 "nbformat": 4,
 "nbformat_minor": 2
}
